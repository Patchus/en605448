{
 "cells": [
  {
   "cell_type": "code",
   "execution_count": 1,
   "metadata": {
    "collapsed": false
   },
   "outputs": [],
   "source": [
    "from IPython.lib.display import YouTubeVideo\n",
    "from IPython.lib import display"
   ]
  },
  {
   "cell_type": "markdown",
   "metadata": {},
   "source": [
    "**Special Note** A link here to a book or resource does not signify anything other than an (possibly lukewarm) endorsement of the book or resource. If you can obtain it elsewhere or elsehow, please do so.\n",
    "\n",
    "\n",
    "# Introduction\n",
    "\n",
    "We're going to jump around here. Looking first at what Data Science is and what Data Scientists do. We'll look at some Data Science Case Studies (topics that data science have been applied to) and then some Data Science Use Cases (topics to which data science might be applied). Finally, we're going to start talking about a framework for data science.\n",
    "\n",
    "## What is Data Science?\n",
    "\n",
    "\"Data science is the application of math and computers to solve problems that stem from a lack of knowledge, constrained by the small number of people with any interest in the answers.\" --Max Shron, *Thinking with Data*\n",
    "\n",
    "\"Data Scientist (n.): Person who is better at statistics than any software engineer and better at software engineering than any statistician.\" -- Josh Wills, [@josh_wills](https://twitter.com/josh_wills/status/198093512149958656)\n",
    "\n",
    "\"Big data is like teenage sex: everyone talks about it, nobody really knows how to do it, everyone thinks everyone else is doing it, so everyone claims they are doing it...\" -- Dan Airely [@danariely](https://twitter.com/danariely/status/287952257926971392)\n",
    "\n",
    "[Big Data Made Simple](http://bigdata-madesimple.com/what-is-a-data-scientist-14-definitions-of-a-data-scientist/) has collected 14 definitions of a data scientist. Some are pretty good:\n",
    "\n",
    "> “Data scientists are involved with gathering data, massaging it into a tractable form, making it tell its story, and presenting that story to others,” — Mike Loukides\n",
    "\n",
    "some are pretty awful:\n",
    "\n",
    "> Data scientist is a “change agent.” “A data scientists is part digital trendspotter and part storyteller stitching various pieces of information together.” — Anjul Bhambhri\n",
    "\n",
    "and, of course, you have funny:\n",
    "\n",
    "> “There’s a joke running around on Twitter that the definition of a data scientist is ‘a data analyst who lives in California,” — Malcolm Chisholm\n",
    "\n",
    "Perhaps my favorite is still Drew Conway's, \"[Venn Diagram of Data Science](http://drewconway.com/zia/2013/3/26/the-data-science-venn-diagram)\". I think this part works well with Max Shron's definition,\n",
    "\n",
    "\"To me, data plus math and statistics only gets you machine learning, which is great if that is what you are interested in, but not if you are doing data science. Science is about discovery and building knowledge, which requires some motivating questions about the world and hypotheses that can be brought to data and tested with statistical methods.\"\n",
    "\n",
    "I think the danger zone could also be characterized as business people with tools and no idea how to use them. Afterall, Excel has had charting and linear regression for decades.\n",
    "\n",
    "Foster Provost in [Data Science for Business](http://www.amazon.com/Data-Science-Business-data-analytic-thinking/dp/1449361323) defines *data science* as fundamental concepts and *data mining* as the tools. He quite correctly states that data science is not tools any more than biology is about test tubes. A data science class that focuses on R, Hadoop, and MongoDB misses the point entirely. What are the concepts? Here are four of them:\n",
    "\n",
    "* Extracting useful knowledge from data to solve business problems can be treated systematically by following a process with reasonably well-defined stages.\n",
    "* From a large mass of data, information technology can be used to find informative descriptive attributes of entities of interest.\n",
    "* If you look too hard at a set of data, you will find something -- but it might not generalize beyond the data you're looking at.\n",
    "* Formulating data mining solutions and evaluating the results involves thinking carefully about the context in which they are used.\n",
    "\n",
    "There are about a dozen or so in his book and we'll have cause to review them this semester. Still, I'm not sure that 12 maxims truly constitutes \"data science\".\n",
    "\n",
    "My ever changing working definition is, \"Data Science is the application of empiricism to every day life.\" I think this nicely captures everything from recommender systems and predictive analytics to the Quantified Self and N=1 movements. It spans the gamut of interested parties from an individual, to a non-profit, to a company, to a country. But, as Shron notes, the search is for relevant knowledge for decision making specific to a particular situation and not universal regularities.\n",
    "\n",
    "I think that, at least for now, data science is what data scientists do: [I know it when I see it](https://en.wikipedia.org/wiki/I_know_it_when_I_see_it)\n",
    "\n",
    "## What do Data Scientists Do?\n",
    "\n",
    "Of course, one way to answer this question would be through data science and that is exactly what Harlan Harris, one of the founders of the DC Data Community did. This work by Harlan Harris, Sean Patrick Murphy and Marck Vaisman was published as [Analyzing the Analyzers](http://cdn.oreillystatic.com/oreilly/radarreport/0636920029014/Analyzing_the_Analyzers.pdf).\n",
    "\n",
    "What are the main results?\n",
    "\n",
    "* People tend to cluster into one of four sub-groups: Data Developer, Data Researcher, Data Creative and Data Business Person.\n",
    "* People who work with data in the generally diverse \"Data Science\" sandbox are diverse but their general skills cluster around 5 general skill sets:\n",
    "    * Business - product development, business\n",
    "    * ML/Big Data - unstructured data, structured data, machine learning, big and distributed data\n",
    "    * Math/OR - optimization, math, graphical models, bayesian/monte carlo statistics, algorithms, simulation\n",
    "    * programming - systems administration, back end programming, front end programming\n",
    "    * statistics - visualization, temporal statistics, surveys and marketing, spatial statistics, sicence, data manipulation, classicial statistics\n",
    "* People in the different sub-groups had different proportions of skill sets.\n",
    "* Looking a specific skill groups, most data scientists did not work with data over the gigabtye size range and very often worked only with kilobytes or megabytes of data--except for the big data group (although even then it was that much higher).\n",
    "\n",
    "The overall analysis lead to the general finding that data scientists are \"T-shaped\". They have competence in a wide variety of skills but are focused in one or two specific areas. The goal of building a good data science team, then, is to find people whose T's complement each other.\n",
    "\n",
    "### Isn't Data Science about Big Data?\n",
    "\n",
    "Hint: no. For a good discussion of the issues, see [Don't use Hadoop - your data isn't that big](https://www.chrisstucchio.com/blog/2013/hadoop_hatred.html) by Chris Stucchio. The upshot: if your data is under 1TB, modern computers (8+ cores, SSD, 16Gb of memory in a *laptop*), databases (Friends don't let Friends use MySQL...use PostgreSQL), and hard drives (external hard drives come in 4TB models) and Python are more than sufficient for your needs.\n",
    "\n",
    "## The Big Picture of Data Science\n",
    "\n",
    "There are very few good popular books about Data Science-type topics currently but I highly suggest Nate Silver's [The Signal and The Noise](http://www.amazon.com/Signal-Noise-Many-Predictions-Fail--but/dp/0143125087/ref=sr_1_1?s=books&ie=UTF8&qid=1440965214&sr=1-1&keywords=the+signal+and+the+noise&pebp=1440965217042&perid=19M1QS589CVC9B63871M). Here is a very good video of Nate Silver presenting the ideas from his book at $IQ^2$ called [Nate Silver and the Art and Science of Prediction](https://www.youtube.com/watch?v=eE4qCJBgfIk).\n",
    "\n",
    "His book (and the talk) contain the best general advice:\n",
    "\n",
    "1. Think probabilistically\n",
    "2. Know where you're coming from\n",
    "3. Try and err\n",
    "\n",
    "The only one that is perhaps a bit cryptic is #2. By this he means, try to get understand the limits of your data. His example of the Japanese surprise attack on Pearl Harbor is instructive. We thought the attack would be elsewhere because we only considered where we could look for the Japanese Fleet...not where they actually might be. This might be summarized as \"Know the limits of your data\". It's not \"We've looked across the entire Pacific and can't find the Japanese Fleet\". It's \"We have not found the Japanese Fleet within range of any of our Naval Stations\"."
   ]
  },
  {
   "cell_type": "code",
   "execution_count": 2,
   "metadata": {
    "collapsed": false
   },
   "outputs": [
    {
     "data": {
      "text/html": [
       "\n",
       "        <iframe\n",
       "            width=\"400\"\n",
       "            height=\"300\"\n",
       "            src=\"https://www.youtube.com/embed/eE4qCJBgfIk\"\n",
       "            frameborder=\"0\"\n",
       "            allowfullscreen\n",
       "        ></iframe>\n",
       "        "
      ],
      "text/plain": [
       "<IPython.lib.display.YouTubeVideo at 0x1029e4450>"
      ]
     },
     "execution_count": 2,
     "metadata": {},
     "output_type": "execute_result"
    }
   ],
   "source": [
    "YouTubeVideo( \"eE4qCJBgfIk\")"
   ]
  },
  {
   "cell_type": "markdown",
   "metadata": {},
   "source": [
    "## Data Science Case Studies\n",
    "* Signet Bank - [Data Science Foundations – Classification and Regression](http://blog.blumshapiro.com/blog/2015/01/09/data-science-concepts-classificatio-and-regression/)\n",
    "\n",
    "> What can be gained from Classification?  There are many iconic stories of how forward thinking companies anticipating business issues before they arrive – and then take action.  My favorite is story **Signet Bank**, whose credit card division was unprofitable, due to “bad” customer defaults on loans and “good” customers being lost to larger financial institutions who could offer better terms and conditions.  The answer, revolutionary at the time, was to apply Classification to their customer data.  They separated the “Bad” from the “Good”, cut the “Bad” ones loose and nurtured the “Good” ones with offers and incentives.  Today, we know them as **Capital One**.\n",
    "\n",
    "What's in your wallet? This isn't exactly all of the story. Signet Bank didn't have any data to run a classification algorithm so it had to generate it. How did it generate? By offering customers _random terms_. They accepted losses for 5 years in order to learn in order to collect data on what made a good customer that stayed and what made a bad customer who you shouldn't give a credit card to in the first place.\n",
    "\n",
    "* Target - [How Target Figured Out A Teen Girl Was Pregnant Before Her Father Did](http://www.forbes.com/sites/kashmirhill/2012/02/16/how-target-figured-out-a-teen-girl-was-pregnant-before-her-father-did/)\n",
    "* Walmart - [What Wal-Mart Knows About Customers' Habits](http://www.nytimes.com/2004/11/14/business/yourmoney/what-walmart-knows-about-customers-habits.html?_r=0)\n",
    "* Obama Re-election Campaign - [How President Obama’s campaign used big data to rally individual voters.](http://www.technologyreview.com/featuredstory/509026/how-obamas-team-used-big-data-to-rally-voters/)\n",
    "* Blake Shaw, Foursquare - [Big Data and The Big Apple](https://www.youtube.com/watch?v=0qt3WpAofI8)\n"
   ]
  },
  {
   "cell_type": "code",
   "execution_count": 3,
   "metadata": {
    "collapsed": false
   },
   "outputs": [
    {
     "data": {
      "text/html": [
       "\n",
       "        <iframe\n",
       "            width=\"400\"\n",
       "            height=\"300\"\n",
       "            src=\"https://www.youtube.com/embed/0qt3WpAofI8\"\n",
       "            frameborder=\"0\"\n",
       "            allowfullscreen\n",
       "        ></iframe>\n",
       "        "
      ],
      "text/plain": [
       "<IPython.lib.display.YouTubeVideo at 0x1029e4550>"
      ]
     },
     "execution_count": 3,
     "metadata": {},
     "output_type": "execute_result"
    }
   ],
   "source": [
    "YouTubeVideo( \"0qt3WpAofI8\")"
   ]
  },
  {
   "cell_type": "markdown",
   "metadata": {},
   "source": [
    "* Brian Delessandro, Media6degrees - [Change the World in a Day](https://www.youtube.com/watch?v=UDBngQKHW2U)"
   ]
  },
  {
   "cell_type": "code",
   "execution_count": 4,
   "metadata": {
    "collapsed": false
   },
   "outputs": [
    {
     "data": {
      "text/html": [
       "\n",
       "        <iframe\n",
       "            width=\"400\"\n",
       "            height=\"300\"\n",
       "            src=\"https://www.youtube.com/embed/UDBngQKHW2U\"\n",
       "            frameborder=\"0\"\n",
       "            allowfullscreen\n",
       "        ></iframe>\n",
       "        "
      ],
      "text/plain": [
       "<IPython.lib.display.YouTubeVideo at 0x1029e4b10>"
      ]
     },
     "execution_count": 4,
     "metadata": {},
     "output_type": "execute_result"
    }
   ],
   "source": [
    "YouTubeVideo( \"UDBngQKHW2U\")"
   ]
  },
  {
   "cell_type": "markdown",
   "metadata": {},
   "source": [
    "* Strata 2012: Ben Goldacre [The Information Architecture of Medicine is Broken](https://www.youtube.com/watch?v=AK_EUKJyusg)"
   ]
  },
  {
   "cell_type": "code",
   "execution_count": 5,
   "metadata": {
    "collapsed": false
   },
   "outputs": [
    {
     "data": {
      "text/html": [
       "\n",
       "        <iframe\n",
       "            width=\"400\"\n",
       "            height=\"300\"\n",
       "            src=\"https://www.youtube.com/embed/AK_EUKJyusg\"\n",
       "            frameborder=\"0\"\n",
       "            allowfullscreen\n",
       "        ></iframe>\n",
       "        "
      ],
      "text/plain": [
       "<IPython.lib.display.YouTubeVideo at 0x1029e4b90>"
      ]
     },
     "execution_count": 5,
     "metadata": {},
     "output_type": "execute_result"
    }
   ],
   "source": [
    "YouTubeVideo(\"AK_EUKJyusg\")"
   ]
  },
  {
   "cell_type": "markdown",
   "metadata": {},
   "source": [
    "I especially like to include the last two because they are not focused on the usual *marketing* type Data Science case studies but show data being used to further other goals.\n",
    "\n",
    "* Daniel Chapsky, Snap Interactive [Love in the Time of Data](https://www.youtube.com/watch?v=-e-o4fCWp8U)"
   ]
  },
  {
   "cell_type": "code",
   "execution_count": 6,
   "metadata": {
    "collapsed": false
   },
   "outputs": [
    {
     "data": {
      "text/html": [
       "\n",
       "        <iframe\n",
       "            width=\"400\"\n",
       "            height=\"300\"\n",
       "            src=\"https://www.youtube.com/embed/-e-o4fCWp8U\"\n",
       "            frameborder=\"0\"\n",
       "            allowfullscreen\n",
       "        ></iframe>\n",
       "        "
      ],
      "text/plain": [
       "<IPython.lib.display.YouTubeVideo at 0x1029e4d10>"
      ]
     },
     "execution_count": 6,
     "metadata": {},
     "output_type": "execute_result"
    }
   ],
   "source": [
    "YouTubeVideo( \"-e-o4fCWp8U\")"
   ]
  },
  {
   "cell_type": "markdown",
   "metadata": {},
   "source": [
    "* Maryland Data Science/Boos Allen Hamilton [Data Science from the Trenches](https://www.youtube.com/watch?v=97iVABomHT8)"
   ]
  },
  {
   "cell_type": "markdown",
   "metadata": {},
   "source": [
    "## Data Science Use Cases\n",
    "\n",
    "[Kaggle](https://www.kaggle.com/wiki/DataScienceUseCases) has a nice page of data science use cases although they are somewhat typically *business* oriented. Kaggle bills itself as a Data Science competition site (and you should definitely look into it) but I find that claim to be dubious. Most of what a Data Scientist would actually do is not contained in any of the competitions that Kaggle hosts. Instead, at least to my mind, it is more of a Machine Learning competition.\n",
    "\n",
    "In any case, I'm only going to talk about a sampling of the use cases. If you're curious, you can use the link above.\n",
    "\n",
    "The page suggests trying to answer the following questions when considering the use of data science. These questions are pretty good although we'll have more to say about the soft skills needed for doing data science. If you or your organization is interested in tackling one of these problems.\n",
    "\n",
    "1. What problem does it solve and for whom?\n",
    "2. How is it being solved today?\n",
    "3. How could a different solution (data driven) beneficially affect business?\n",
    "4. What are the data inputs and where do they come from?\n",
    "5. What are the outputs and how are they consumed (predictive model and a report? recommender and an email? statistical analysis and a dashboard?)\n",
    "6. Is this a revenue leakage (\"save us money\") or a revenue growth (\"makes us money\") problem?\n",
    "\n",
    "### Example: Use Cases By Function\n",
    "\n",
    "#### Marketing\n",
    "\n",
    "* **Predicting Lifetime Value (LTV)**\n",
    "\n",
    "what for: if you can predict the characteristics of high LTV customers, this supports customer segmentation, identifies upsell opportunties and supports other marketing initiatives\n",
    "usage: can be both an online algorithm and a static report showing the characteristics of high LTV customers\n",
    "\n",
    "* **Wallet share estimation**\n",
    "\n",
    "working out the proportion of a customer's spend in a category accrues to a company allows that company to identify upsell and cross-sell opportunities\n",
    "usage: can be both an online algorithm and a static report showing the characteristics of low wallet share customers\n",
    "\n",
    "* **Churn**\n",
    "\n",
    "working out the characteristics of churners allows a company to product adjustments and an online algorithm allows them to reach out to churners\n",
    "usage: can be both an online algorithm and a statistic report showing the characteristics of likely churners\n",
    "\n",
    "* **Customer segmentation**\n",
    "\n",
    "If you can understand qualitatively different customer groups, then we can give them different treatments (perhaps even by different groups in the company). Answers questions like: what makes people buy, stop buying etc\n",
    "usage: static report\n",
    "\n",
    "* **Product mix**\n",
    "\n",
    "What mix of products offers the lowest churn? eg. Giving a combined policy discount for home + auto = low churn\n",
    "usage: online algorithm and static report\n",
    "\n",
    "* **Cross selling/Recommendation algorithms**\n",
    "\n",
    "Given a customer's past browsing history, purchase history and other characteristics, what are they likely to want to purchase in the future?\n",
    "usage: online algorithm\n",
    "\n",
    "* **Up selling**\n",
    "\n",
    "Given a customer's characteristics, what is the likelihood that they'll upgrade in the future?\n",
    "usage: online algorithm and static report\n",
    "\n",
    "* **Channel optimization**\n",
    "\n",
    "what is the optimal way to reach a customer with certain characteristics?\n",
    "usage: online algorithm and static report\n",
    "\n",
    "* **Discount targeting**\n",
    "\n",
    "What is the probability of inducing the desired behavior with a discount\n",
    "usage: online algorithm and static report\n",
    "\n",
    "* **Reactivation likelihood**\n",
    "\n",
    "What is the reactivation likelihood for a given customer\n",
    "usage: online algorithm and static report\n",
    "\n",
    "* **Adwords optimization and ad buying**\n",
    "\n",
    "calculating the right price for different keywords/ad slots\n",
    "\n",
    "* **Product Improvement **\n",
    "\n",
    "finding our where people get stuck in your product and improving the product on those recom\n",
    "\n",
    "### Example: Use Cases By Vertical\n",
    "\n",
    "#### Healthcare\n",
    "\n",
    "* **Claims review prioritization**\n",
    "\n",
    "payers picking which claims should be reviewed by manual auditors\n",
    "\n",
    "* **Medicare/medicaid fraud**\n",
    "\n",
    "Tackled at the claims processors, EDS is the biggest & uses proprietary tech\n",
    "\n",
    "* **Medical resources allocation**\n",
    "\n",
    "Hospital operations management\n",
    "Optimize/predict operating theatre & bed occupancy based on initial patient visits\n",
    "\n",
    "* **Alerting and diagnostics from real-time patient data**\n",
    "\n",
    "Embedded devices (productized algos)\n",
    "Exogenous data from devices to create diagnostic reports for doctors\n",
    "\n",
    "* **Prescription compliance**\n",
    "\n",
    "Predicting who won't comply with their prescriptions\n",
    "\n",
    "* **Physician attrition**\n",
    "\n",
    "Hospitals want to retain Drs who have admitting privileges in multiple hospitals\n",
    "\n",
    "* **Survival analysis**\n",
    "\n",
    "Analyse survival statistics for different patient attributes (age, blood type, gender, etc) and treatments\n",
    "\n",
    "* **Medication (dosage) effectiveness**\n",
    "\n",
    "Analyse effects of admitting different types and dosage of medication for a disease\n",
    "\n",
    "* **Readmission risk**\n",
    "\n",
    "Predict risk of re-admittance based on patient attributes, medical history, diagnose & treatment\n",
    "\n",
    "\n",
    "## Ronin Data Science\n",
    "\n",
    "I have had students, especially engineers who are not in data driven organizations or who are so far organizationally from the typical data science project that they have no idea how they could do data science. This happens a lot (especially in my class!). You might be interested in data science but your spot on the org chart is some team that builds things, far from the examples I've described.\n",
    "\n",
    "There are (at least) two possibilities.\n",
    "\n",
    "The first is easiest: find publicly available data that answers questions you want to pose and blog about it.\n",
    "\n",
    "The second is harder and it generally comes in reponse to people who want to make their organization more data driven, who want to start doing data science at work.\n",
    "\n",
    "My answer there is: start with what you have, where you are. You have a team, it has goals and it either has data or data can be collected relevant to those goals. You have software you run and monitor. You have version control. You have unit tests. Collect monitoring data on your software and build a health model for it. Does unit test coverage predict failures? Are there more PagerDuty alerts immediately after a deployment? You can build statistical models for all of these things. And then you have analytics to back up the rule, \"No deploys on Fridays\"."
   ]
  },
  {
   "cell_type": "code",
   "execution_count": 7,
   "metadata": {
    "collapsed": false
   },
   "outputs": [
    {
     "data": {
      "text/html": [
       "\n",
       "        <iframe\n",
       "            width=\"400\"\n",
       "            height=\"300\"\n",
       "            src=\"https://www.youtube.com/embed/97iVABomHT8\"\n",
       "            frameborder=\"0\"\n",
       "            allowfullscreen\n",
       "        ></iframe>\n",
       "        "
      ],
      "text/plain": [
       "<IPython.lib.display.YouTubeVideo at 0x1029e4d90>"
      ]
     },
     "execution_count": 7,
     "metadata": {},
     "output_type": "execute_result"
    }
   ],
   "source": [
    "YouTubeVideo( \"97iVABomHT8\")"
   ]
  },
  {
   "cell_type": "code",
   "execution_count": null,
   "metadata": {
    "collapsed": true
   },
   "outputs": [],
   "source": []
  }
 ],
 "metadata": {
  "kernelspec": {
   "display_name": "Python 2",
   "language": "python",
   "name": "python2"
  },
  "language_info": {
   "codemirror_mode": {
    "name": "ipython",
    "version": 2
   },
   "file_extension": ".py",
   "mimetype": "text/x-python",
   "name": "python",
   "nbconvert_exporter": "python",
   "pygments_lexer": "ipython2",
   "version": "2.7.6"
  }
 },
 "nbformat": 4,
 "nbformat_minor": 0
}
