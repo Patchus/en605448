{
 "cells": [
  {
   "cell_type": "code",
   "execution_count": 1,
   "metadata": {
    "collapsed": true
   },
   "outputs": [],
   "source": [
    "from IPython.lib.display import YouTubeVideo\n",
    "from IPython.lib import display"
   ]
  },
  {
   "cell_type": "markdown",
   "metadata": {},
   "source": [
    "# Data Munging\n",
    "\n",
    "There are a wide variety of ways to obtain data: web scraping, APIs, Excel files, and databases. These notes do not pretend to be comprehensive. There are likely to be many special cases. However, they do point you to resources for many of the basic data munging tasks and how to accomplish them in Python. These include:\n",
    "\n",
    "1. Files\n",
    "2. Regular Expressions\n",
    "3. Web Scraping\n",
    "4. Reading Excel Files\n",
    "5. Working with Databases\n",
    "\n",
    "## Files\n",
    "\n",
    "You may need to work with text files directly in Python or perhaps CSV or TSV. Pandas already has powerful capabilities for working with all kinds of files:\n",
    "\n",
    "[Pandas IO](http://pandas.pydata.org/pandas-docs/stable/io.html)\n",
    "\n",
    "but sometimes you have to massage your data first, especially if it's been web scraped or has no formatting (or worse yet, is a table layed out with spaces!).\n",
    "\n",
    "### Reading a Text File\n",
    "\n",
    "```python\n",
    "with open( \"indata.txt\", 'r') as f:\n",
    "    lines = f.readlines()\n",
    "```\n",
    "will read the lines of the file into List with each line as an element of the List. You can then do something with the lines of the file. Note that each line (as a String) will contain a newline character that will need to be chopped off. When you're done processing the data, you can write it back out:\n",
    "\n",
    "### Writing a Text File\n",
    "\n",
    "```python\n",
    "with open( \"outdata.txt\", 'w') as f:\n",
    "    for line in lines:\n",
    "        f.write( line)\n",
    "        f.write( '\\n') # only if line doesn't have a newline.\n",
    "```\n",
    "\n",
    "Of course, you need to do something with the data in between the steps for it to be meaningful.\n",
    "\n",
    "### Working with JSON\n",
    "\n",
    "Another possible format you may encounter either as an input and sometimes as a desired output is JSON.\n",
    "\n",
    "```python\n",
    "import json\n",
    "\n",
    "with open( \"indata.json\", 'r') as f:\n",
    "    data = json.load( f)\n",
    "```\n",
    "\n",
    "To write a data structure to JSON use:\n",
    "\n",
    "```python\n",
    "import json # not needed if already done\n",
    "\n",
    "with open( \"outdata.json\", 'w') as f:\n",
    "    json.dump( data, f, indent=2)\n",
    "```\n",
    "\n",
    "Those are the basics. You can find out more by googling or on Stack Overflow.\n",
    "\n",
    "## Regular Expressions\n",
    "\n",
    "> There was once a programmer had a problem and thought to themselves: I know, I'll use a regular expression. Now they had two problems.\n",
    "\n",
    "Especially when dealing with raw text, you are most likely going to want to know about and use Regular Expressions. . If you need a review of regular expressions (or haven’t used them at all), this video is quite nice:"
   ]
  },
  {
   "cell_type": "code",
   "execution_count": 2,
   "metadata": {
    "collapsed": false
   },
   "outputs": [
    {
     "data": {
      "text/html": [
       "\n",
       "        <iframe\n",
       "            width=\"400\"\n",
       "            height=\"300\"\n",
       "            src=\"https://www.youtube.com/embed/EkluES9Rvak\"\n",
       "            frameborder=\"0\"\n",
       "            allowfullscreen\n",
       "        ></iframe>\n",
       "        "
      ],
      "text/plain": [
       "<IPython.lib.display.YouTubeVideo at 0x103ce4490>"
      ]
     },
     "execution_count": 2,
     "metadata": {},
     "output_type": "execute_result"
    }
   ],
   "source": [
    "YouTubeVideo( 'EkluES9Rvak')"
   ]
  },
  {
   "cell_type": "markdown",
   "metadata": {},
   "source": [
    "Additionally, Google’s Python Tutorial has a section on Regular Expressions:\n",
    "\n",
    "[Regular Expressions](https://developers.google.com/edu/python/regular-expressions)"
   ]
  },
  {
   "cell_type": "code",
   "execution_count": 3,
   "metadata": {
    "collapsed": false
   },
   "outputs": [
    {
     "data": {
      "text/html": [
       "\n",
       "        <iframe\n",
       "            width=\"400\"\n",
       "            height=\"300\"\n",
       "            src=\"https://www.youtube.com/embed/kWyoYtvJpe4\"\n",
       "            frameborder=\"0\"\n",
       "            allowfullscreen\n",
       "        ></iframe>\n",
       "        "
      ],
      "text/plain": [
       "<IPython.lib.display.YouTubeVideo at 0x103ce4590>"
      ]
     },
     "execution_count": 3,
     "metadata": {},
     "output_type": "execute_result"
    }
   ],
   "source": [
    "YouTubeVideo( 'kWyoYtvJpe4')"
   ]
  },
  {
   "cell_type": "markdown",
   "metadata": {},
   "source": [
    "I've referenced the Google Python tutorial before, it's quite good.\n",
    "\n",
    "## Web Scraping\n",
    "\n",
    "There's a variety of approaches to obtaining data from the Internet. Sometimes you just need to obtain a file via HTTP or FTP. For this, you can use the [Requests](http://www.python-requests.org/en/latest/) library. If, however, the file is HTML, you'll need to do some advanced parsing. Luckily there are libraries for that in Python like [Beautiful Soup 4](http://www.crummy.com/software/BeautifulSoup/bs4/doc/) or [Scrapy](http://scrapy.org/).\n",
    "\n",
    "**Always respect the site's robots.txt directions.**\n",
    "\n",
    "Here is an overview of using Requests and Beautiful Soup:"
   ]
  },
  {
   "cell_type": "code",
   "execution_count": 4,
   "metadata": {
    "collapsed": false
   },
   "outputs": [
    {
     "data": {
      "text/html": [
       "\n",
       "        <iframe\n",
       "            width=\"400\"\n",
       "            height=\"300\"\n",
       "            src=\"https://www.youtube.com/embed/3xQTJi2tqgk\"\n",
       "            frameborder=\"0\"\n",
       "            allowfullscreen\n",
       "        ></iframe>\n",
       "        "
      ],
      "text/plain": [
       "<IPython.lib.display.YouTubeVideo at 0x103ce4b50>"
      ]
     },
     "execution_count": 4,
     "metadata": {},
     "output_type": "execute_result"
    }
   ],
   "source": [
    "YouTubeVideo( '3xQTJi2tqgk')"
   ]
  },
  {
   "cell_type": "markdown",
   "metadata": {},
   "source": [
    "This presentation is much more detailed. If you don't know a lot about HTML or if you end up with some problems, it's worth watching this presentation (in 3 parts) or looking at the slides. The speaker talks a lot about alternative HTML layouts that you might encounter."
   ]
  },
  {
   "cell_type": "code",
   "execution_count": 5,
   "metadata": {
    "collapsed": false
   },
   "outputs": [
    {
     "data": {
      "text/html": [
       "\n",
       "        <iframe\n",
       "            width=\"400\"\n",
       "            height=\"300\"\n",
       "            src=\"https://www.youtube.com/embed/x9lXgsGxhVM\"\n",
       "            frameborder=\"0\"\n",
       "            allowfullscreen\n",
       "        ></iframe>\n",
       "        "
      ],
      "text/plain": [
       "<IPython.lib.display.YouTubeVideo at 0x103ce4c50>"
      ]
     },
     "execution_count": 5,
     "metadata": {},
     "output_type": "execute_result"
    }
   ],
   "source": [
    "YouTubeVideo( 'x9lXgsGxhVM')"
   ]
  },
  {
   "cell_type": "code",
   "execution_count": 6,
   "metadata": {
    "collapsed": false
   },
   "outputs": [
    {
     "data": {
      "text/html": [
       "\n",
       "        <iframe\n",
       "            width=\"400\"\n",
       "            height=\"300\"\n",
       "            src=\"https://www.youtube.com/embed/UgdW7lWEpJA\"\n",
       "            frameborder=\"0\"\n",
       "            allowfullscreen\n",
       "        ></iframe>\n",
       "        "
      ],
      "text/plain": [
       "<IPython.lib.display.YouTubeVideo at 0x103ce4d90>"
      ]
     },
     "execution_count": 6,
     "metadata": {},
     "output_type": "execute_result"
    }
   ],
   "source": [
    "YouTubeVideo( 'UgdW7lWEpJA')"
   ]
  },
  {
   "cell_type": "code",
   "execution_count": 7,
   "metadata": {
    "collapsed": false
   },
   "outputs": [
    {
     "data": {
      "text/html": [
       "\n",
       "        <iframe\n",
       "            width=\"400\"\n",
       "            height=\"300\"\n",
       "            src=\"https://www.youtube.com/embed/mGUSgNlCE5Q\"\n",
       "            frameborder=\"0\"\n",
       "            allowfullscreen\n",
       "        ></iframe>\n",
       "        "
      ],
      "text/plain": [
       "<IPython.lib.display.YouTubeVideo at 0x103ce4e50>"
      ]
     },
     "execution_count": 7,
     "metadata": {},
     "output_type": "execute_result"
    }
   ],
   "source": [
    "YouTubeVideo( 'mGUSgNlCE5Q')"
   ]
  },
  {
   "cell_type": "markdown",
   "metadata": {},
   "source": [
    "It is entirely coincidental that this blog post uses LivingSocial as an example. The page layout on our site may have changed. It uses Scrapy and introduces some database connectivity: [Introduction to Web Scraping using Scrapy and Postgres](http://newcoder.io/scrape/intro/).\n",
    "\n",
    "## Excel Files\n",
    "\n",
    "There is a *huge* amount of data in Excel files. Unfortunately, they're not all layed out neatly so that they can be just read into Pandas. The general starting point for reading Excel files in Pandas is:\n",
    "\n",
    "[Python Excel]()\n",
    "\n",
    "Currently, the most popular choice is [OpenPyXL](). There is also this video which is ok but conference organizers need to learn that we don’t care what the speaker looks like…we want to 1. hear their voice and 2. see their slides. If your German is up to it, the Dusseldorf Python groups has lots of talks about OpenPyXL for some reason on YouTube!"
   ]
  },
  {
   "cell_type": "code",
   "execution_count": 8,
   "metadata": {
    "collapsed": false
   },
   "outputs": [
    {
     "data": {
      "text/html": [
       "\n",
       "        <iframe\n",
       "            width=\"400\"\n",
       "            height=\"300\"\n",
       "            src=\"https://www.youtube.com/embed/8IVJ_X38tp4\"\n",
       "            frameborder=\"0\"\n",
       "            allowfullscreen\n",
       "        ></iframe>\n",
       "        "
      ],
      "text/plain": [
       "<IPython.lib.display.YouTubeVideo at 0x103ce4f90>"
      ]
     },
     "execution_count": 8,
     "metadata": {},
     "output_type": "execute_result"
    }
   ],
   "source": [
    "YouTubeVideo( '8IVJ_X38tp4')"
   ]
  },
  {
   "cell_type": "markdown",
   "metadata": {},
   "source": [
    "## Databases\n",
    "\n",
    "Once you get your data, you should consider storing it in a database. I suggest you use PostgreSQL. Even if you want a malleable schema (JSON), I suggest PostgreSQL over MongoDB. The ability to join data sources in MongoDB is very limited (as in, \"none\"). Of course, your data may already be in a database in which case this section is also relevant!\n",
    "\n",
    "In order to use any of these from Python, you’re going to need to install a module. Some of the modules require OS specific compilation steps so you may need to do both a `pip install` and a `yum` (or other package manager for you distribution of Linux) or `brew` (OS X) install.\n",
    "\n",
    "However, for just shoving data into a database and having the ability to query it, don’t overlook the simplicity (but still full featuredness) of SQLite. For each database, I mention one or more modules that you can google.\n",
    "\n",
    "**RDBMS**\n",
    "- MySQL\n",
    "    - [MySQL connector](http://dev.mysql.com/downloads/connector/python/)\n",
    "    - [MySQLdb](http://mysql-python.sourceforge.net/MySQLdb.html)\n",
    "- PostgreSQL\n",
    "    - [Psycopg2](http://initd.org/psycopg/)\n",
    "- Hive (not really a typical RDBMS but you may find yourself having to get data out of Hive)\n",
    "    - [PyHive](https://github.com/dropbox/PyHive)\n",
    "- SQLite3\n",
    "    - [sqlite3](https://docs.python.org/2/library/sqlite3.html) These are just the docs. The module comes with the default installation.\n",
    "\n",
    "**“Document” (JSON) Stores**\n",
    "- MongoDB\n",
    "    - [PyMongo](https://api.mongodb.org/python/current/)\n",
    "- CouchDB\n",
    "    - [couchdb-python](https://pythonhosted.org/CouchDB/)\n",
    "\n",
    "**Graph Databases**\n",
    "- Neo4J\n",
    "    - [py2neo](http://py2neo.org/2.0/)\n",
    "\n",
    "**Key/Value Databases**\n",
    "- Redis\n",
    "    - [redis-py](https://github.com/andymccurdy/redis-py) (recommended by folks at Redis)\n",
    "- memcached\n",
    "    - [pylibmc](https://pypi.python.org/pypi/pylibmc)\n",
    "    \n",
    "You're not necessarily going to want to use any or all of these for storing data but you may very well need to get data out of any of them.\n",
    "\n",
    "No, you don’t need MongoDB to store (JSON) “documents\"..."
   ]
  },
  {
   "cell_type": "code",
   "execution_count": 9,
   "metadata": {
    "collapsed": false
   },
   "outputs": [
    {
     "data": {
      "text/html": [
       "\n",
       "        <iframe\n",
       "            width=\"400\"\n",
       "            height=\"300\"\n",
       "            src=\"https://www.youtube.com/embed/os1-plBMaKU\"\n",
       "            frameborder=\"0\"\n",
       "            allowfullscreen\n",
       "        ></iframe>\n",
       "        "
      ],
      "text/plain": [
       "<IPython.lib.display.YouTubeVideo at 0x103cff150>"
      ]
     },
     "execution_count": 9,
     "metadata": {},
     "output_type": "execute_result"
    }
   ],
   "source": [
    "YouTubeVideo( 'os1-plBMaKU')"
   ]
  },
  {
   "cell_type": "code",
   "execution_count": 10,
   "metadata": {
    "collapsed": false
   },
   "outputs": [
    {
     "data": {
      "text/html": [
       "\n",
       "        <iframe\n",
       "            width=\"400\"\n",
       "            height=\"300\"\n",
       "            src=\"https://www.youtube.com/embed/OWBl6YuTEqI\"\n",
       "            frameborder=\"0\"\n",
       "            allowfullscreen\n",
       "        ></iframe>\n",
       "        "
      ],
      "text/plain": [
       "<IPython.lib.display.YouTubeVideo at 0x103cff0d0>"
      ]
     },
     "execution_count": 10,
     "metadata": {},
     "output_type": "execute_result"
    }
   ],
   "source": [
    "YouTubeVideo( 'OWBl6YuTEqI')"
   ]
  },
  {
   "cell_type": "markdown",
   "metadata": {},
   "source": [
    "With so many ORMs (Object Relational Mappers) these days, some of us have forgotten how SQL works! This is a great\n",
    "tutorial for SQL in general from Python if you think your SQL-fu is weak. The examples are worked out entirely using SQLite."
   ]
  },
  {
   "cell_type": "code",
   "execution_count": 12,
   "metadata": {
    "collapsed": false
   },
   "outputs": [
    {
     "data": {
      "text/html": [
       "\n",
       "        <iframe\n",
       "            width=\"400\"\n",
       "            height=\"300\"\n",
       "            src=\"https://www.youtube.com/embed/Thd8yoBou7k\"\n",
       "            frameborder=\"0\"\n",
       "            allowfullscreen\n",
       "        ></iframe>\n",
       "        "
      ],
      "text/plain": [
       "<IPython.lib.display.YouTubeVideo at 0x103cff290>"
      ]
     },
     "execution_count": 12,
     "metadata": {},
     "output_type": "execute_result"
    }
   ],
   "source": [
    "YouTubeVideo( 'Thd8yoBou7k')"
   ]
  },
  {
   "cell_type": "markdown",
   "metadata": {},
   "source": [
    "Now you can start thinking about getting and storing data."
   ]
  }
 ],
 "metadata": {
  "kernelspec": {
   "display_name": "Python 2",
   "language": "python",
   "name": "python2"
  },
  "language_info": {
   "codemirror_mode": {
    "name": "ipython",
    "version": 2
   },
   "file_extension": ".py",
   "mimetype": "text/x-python",
   "name": "python",
   "nbconvert_exporter": "python",
   "pygments_lexer": "ipython2",
   "version": "2.7.10"
  }
 },
 "nbformat": 4,
 "nbformat_minor": 0
}
